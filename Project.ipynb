{
 "cells": [
  {
   "cell_type": "markdown",
   "metadata": {},
   "source": [
    "<h1>Deutsch's Algorithm</h1>"
   ]
  },
  {
   "cell_type": "markdown",
   "metadata": {},
   "source": [
    "<h2>What is it?</h2>\n",
    "<p>Deutschs algortihm, also know as Deutschs-Jozsa algorithm, is devised by David Deutsch and Richard Jozsa in 1992. It is one of the earliest examples of a quantum algorithm advantage to be demonstarted.</p>\n",
    "\n",
    "<p>It specifically reveals the possibility of exponential speed-ups using quantum computers by generalizing Deutschs algorithm.</p>\n",
    "\n",
    "\n",
    "<h3>Deutschs Algorithm circuit [2] </h3>\n",
    "\n",
    "![Alt text](Images/Circuit.png)\n",
    "\n",
    "<h2>Explained [3] </h2>\n",
    "\n",
    "\n",
    "<p>The algorithm determines between constant or balanced.It uses deutschs algorithm which is a binary function, f: {0,1}^n -> {0,1}, where n is the number of bits in the input. This function gurantees the output to be concistent of 0 for all outputs or 1 for all outputs. Otherwise it splits the outputs 50/50, half being 0, and half being 1.</p>\n",
    "\n",
    "<h3>Example in table format [4]</h3>\n",
    "\n",
    "![Alt text](Images/table_for_inputs.png)\n",
    "\n",
    "<h3>2. Classical Solution.</h3>\n",
    "\n",
    "In a classical setting, determining if the function is balanced and requires two queries. For instance, if f(0,0,0,..) -> 0 and f(1,0,0, ...)->, the function is balanced. However, confirming a constant function requires checking half of all possible inputs plus one, leading to 2^n - 1 + 1 trials.\n",
    "\n",
    "![Alt text](Images/Constant.png)\n",
    "\n",
    "This formula can express the probability that the function is constant.\n",
    "\n",
    "<h3>3. Quantum solution </h3>\n",
    "\n",
    "In the quantum realm, the problem can be solved with certainty after just one call to the function f(x), provided f is implemented as a quantum oracle. The quantum solution utilizes a quantum circuit and takes advantage of quantum parallelism.\n",
    "<p>Example of Deutsch-Jozsa circuit</p>\n",
    "\n",
    "![Alt text](Images/Deutsch-Jozsa-Circuit.png)\n",
    "\n",
    "\n",
    "<p>Steps : </p>\n",
    "\n",
    "1.  Prepare two quantum registers. The first is an n-qubit register intialised to |0> ,and the second is a one-qubit register intialized to |1>\n",
    "\n",
    "<div style=\"text-align:center;\">\n",
    "  <img src=\"Images/p1.png\" alt=\"Alt text\" />\n",
    "</div>\n",
    "\n",
    "\n",
    "\n",
    "2.  Apply a Hadamard gate to each qubit:\n",
    "\n",
    "<div style=\"text-align:center;\">\n",
    "  <img src=\"Images/hadamard.png\" alt=\"Alt text\" />\n",
    "</div>\n",
    "\n",
    "3.  Appy the quantum oracle ![Alt text](Images/Screenshot.png) :\n",
    "\n",
    "<div style=\"text-align:center;\">\n",
    "  <img src=\"Images/quantum.png\" alt=\"Alt text\" />\n",
    "</div>\n",
    "\n",
    "\n",
    "4.  By this step, the second single qubit register may be ignored, You apply a hadamard gate to each qubit in the first register\n",
    "\n",
    "<div style=\"text-align:center;\">\n",
    "  <img src=\"Images/hadamard3.png\" alt=\"Alt text\" />\n",
    "</div>\n",
    "\n",
    "5.  You then measure the first register. If the result is 0, then it is a constant, if the result is 1, then it is balanced.\n",
    "\n",
    "\n",
    "\n",
    "\n",
    "\n",
    "\n",
    "\n",
    "\n"
   ]
  },
  {
   "cell_type": "markdown",
   "metadata": {},
   "source": [
    "<h2>Qiskit Implementation</h2>\n",
    "\n",
    "Here we have the Deutschs algorithm implemented using Qizkit. First the enviroment is prepared. Then we set the length of the n-bit string. Then we use Qizkit to program. [5]"
   ]
  },
  {
   "cell_type": "code",
   "execution_count": 2,
   "metadata": {},
   "outputs": [
    {
     "name": "stdout",
     "output_type": "stream",
     "text": [
      "The oracle returns a balanced function\n"
     ]
    }
   ],
   "source": [
    "# useful additional packages \n",
    "import numpy as np\n",
    "import matplotlib.pyplot as plt\n",
    "%matplotlib inline\n",
    "\n",
    "# importing Qiskit\n",
    "from qiskit import BasicAer\n",
    "from qiskit import QuantumCircuit, ClassicalRegister, QuantumRegister, execute\n",
    "\n",
    "# import basic plot tools\n",
    "from qiskit.visualization import plot_histogram\n",
    "\n",
    "n = 13  # the length of the first register for querying the oracle \n",
    "\n",
    "# Choose a type of oracle at random. With probability half it is constant, \n",
    "# and with the same probability, it is balanced\n",
    "oracleType, oracleValue = np.random.randint(2), np.random.randint(2)\n",
    "\n",
    "if oracleType == 0:\n",
    "    print(\"The oracle returns a constant value \", oracleValue)\n",
    "else:\n",
    "    print(\"The oracle returns a balanced function\")\n",
    "    a = np.random.randint(1, 2 ** n)  # this is a hidden parameter for a balanced oracle. \n",
    "\n",
    "# Creating registers\n",
    "# n qubits for querying the oracle and one qubit for storing the answer\n",
    "qr = QuantumRegister(n + 1)  # all qubits are initialized to zero\n",
    "# for recording the measurement on the first register\n",
    "cr = ClassicalRegister(n)\n",
    "\n",
    "circuitName = \"DeutschJozsa\"\n",
    "djCircuit = QuantumCircuit(qr, cr)\n",
    "\n",
    "# Create the superposition of all input queries in the first register by applying the Hadamard gate to each qubit.\n",
    "for i in range(n):\n",
    "    djCircuit.h(qr[i])\n",
    "\n",
    "# Flip the second register and apply the Hadamard gate.\n",
    "djCircuit.x(qr[n])\n",
    "djCircuit.h(qr[n])\n",
    "\n",
    "# Apply barrier to mark the beginning of the oracle\n",
    "djCircuit.barrier()\n",
    "\n",
    "if oracleType == 0:  # If the oracleType is \"0\", the oracle returns oracleValue for all input.\n",
    "    if oracleValue == 1:\n",
    "        djCircuit.x(qr[n])\n",
    "else:  # Otherwise, it returns the inner product of the input with a (non-zero bitstring)\n",
    "    for i in range(n):\n",
    "        if (a & (1 << i)):\n",
    "            djCircuit.cx(qr[i], qr[n])\n",
    "\n",
    "# Apply barrier to mark the end of the oracle\n",
    "djCircuit.barrier()\n",
    "\n",
    "# Apply Hadamard gates after querying the oracle\n",
    "for i in range(n):\n",
    "    djCircuit.h(qr[i])\n",
    "\n",
    "# Measurement\n",
    "djCircuit.barrier()\n",
    "for i in range(n):\n",
    "    djCircuit.measure(qr[i], cr[i])\n",
    "\n"
   ]
  },
  {
   "cell_type": "markdown",
   "metadata": {},
   "source": [
    "Here we can see, that by repeating the above circuit code, the value on the graph will change with every time the code is called."
   ]
  },
  {
   "cell_type": "code",
   "execution_count": 4,
   "metadata": {},
   "outputs": [
    {
     "data": {
      "image/png": "[encoded data removed]",
      "text/plain": [
       "<Figure size 700x500 with 1 Axes>"
      ]
     },
     "execution_count": 4,
     "metadata": {},
     "output_type": "execute_result"
    }
   ],
   "source": [
    "backend = BasicAer.get_backend('qasm_simulator')\n",
    "shots = 1000\n",
    "job = execute(djCircuit, backend=backend, shots=shots)\n",
    "results = job.result() \n",
    "answer = results.get_counts()\n",
    "\n",
    "plot_histogram(answer)"
   ]
  },
  {
   "cell_type": "markdown",
   "metadata": {},
   "source": [
    "Here we have a representation of a Constant Oracle below, as discussed above this returns the same output for each input, it uses a random bit (0,1) to represent "
   ]
  },
  {
   "cell_type": "code",
   "execution_count": 11,
   "metadata": {},
   "outputs": [
    {
     "data": {
      "text/html": [
       "<pre style=\"word-wrap: normal;white-space: pre;background: #fff0;line-height: 1.1;font-family: &quot;Courier New&quot;,Courier,monospace\">          \n",
       "q_0: ─────\n",
       "          \n",
       "q_1: ─────\n",
       "          \n",
       "q_2: ─────\n",
       "     ┌───┐\n",
       "q_3: ┤ X ├\n",
       "     └───┘</pre>"
      ],
      "text/plain": [
       "          \n",
       "q_0: ─────\n",
       "          \n",
       "q_1: ─────\n",
       "          \n",
       "q_2: ─────\n",
       "     ┌───┐\n",
       "q_3: ┤ X ├\n",
       "     └───┘"
      ]
     },
     "execution_count": 11,
     "metadata": {},
     "output_type": "execute_result"
    }
   ],
   "source": [
    "n = 3\n",
    "\n",
    "const_oracle = QuantumCircuit(n+1)\n",
    "\n",
    "output = np.random.randint(2)\n",
    "if output == 1:\n",
    "    const_oracle.x(n)\n",
    "\n",
    "const_oracle.draw()"
   ]
  },
  {
   "cell_type": "markdown",
   "metadata": {},
   "source": [
    "Below we have a repsentation of a balanced Oracle, as discussed above, this will produce half results in halves, half will be 0, half will be 1, the b_str represents which qubits have an x-gate applied."
   ]
  },
  {
   "cell_type": "code",
   "execution_count": 12,
   "metadata": {},
   "outputs": [
    {
     "data": {
      "text/html": [
       "<pre style=\"word-wrap: normal;white-space: pre;background: #fff0;line-height: 1.1;font-family: &quot;Courier New&quot;,Courier,monospace\">     ┌───┐\n",
       "q_0: ┤ X ├\n",
       "     └───┘\n",
       "q_1: ─────\n",
       "     ┌───┐\n",
       "q_2: ┤ X ├\n",
       "     └───┘\n",
       "q_3: ─────\n",
       "          </pre>"
      ],
      "text/plain": [
       "     ┌───┐\n",
       "q_0: ┤ X ├\n",
       "     └───┘\n",
       "q_1: ─────\n",
       "     ┌───┐\n",
       "q_2: ┤ X ├\n",
       "     └───┘\n",
       "q_3: ─────\n",
       "          "
      ]
     },
     "execution_count": 12,
     "metadata": {},
     "output_type": "execute_result"
    }
   ],
   "source": [
    "balanced_oracle = QuantumCircuit(n+1)\n",
    "b_str = \"101\"\n",
    "\n",
    "# Place X-gates\n",
    "for qubit in range(len(b_str)):\n",
    "    if b_str[qubit] == '1':\n",
    "        balanced_oracle.x(qubit)\n",
    "balanced_oracle.draw()"
   ]
  },
  {
   "cell_type": "markdown",
   "metadata": {},
   "source": [
    "Intial state for Algorithm [7]"
   ]
  },
  {
   "cell_type": "code",
   "execution_count": 7,
   "metadata": {},
   "outputs": [
    {
     "data": {
      "image/png": "[encoded data removed]",
      "text/plain": [
       "<Figure size 305.727x284.278 with 1 Axes>"
      ]
     },
     "execution_count": 7,
     "metadata": {},
     "output_type": "execute_result"
    }
   ],
   "source": [
    "style = {'backgroundcolor': 'lightyellow'} # Style of the circuits\n",
    "\n",
    "qreg1 = QuantumRegister(2) # The quantum register of the qubits, in this case 2 qubits\n",
    "register1 = ClassicalRegister(1) \n",
    "\n",
    "qc = QuantumCircuit(qreg1, register1)\n",
    "\n",
    "#qc.x(0)\n",
    "qc.x(1)\n",
    "qc.barrier()\n",
    "qc.draw(output='mpl', style=style)"
   ]
  },
  {
   "cell_type": "markdown",
   "metadata": {},
   "source": [
    "Then apply a hadamard gate"
   ]
  },
  {
   "cell_type": "code",
   "execution_count": 8,
   "metadata": {},
   "outputs": [
    {
     "data": {
      "image/png": "[encoded data removed]",
      "text/plain": [
       "<Figure size 472.949x284.278 with 1 Axes>"
      ]
     },
     "execution_count": 8,
     "metadata": {},
     "output_type": "execute_result"
    }
   ],
   "source": [
    "qc.h(0)\n",
    "qc.h(1)\n",
    "qc.barrier()\n",
    "qc.draw(output='mpl', style=style)"
   ]
  },
  {
   "cell_type": "markdown",
   "metadata": {},
   "source": []
  },
  {
   "cell_type": "code",
   "execution_count": 9,
   "metadata": {},
   "outputs": [
    {
     "data": {
      "image/png": "[encoded data removed]",
      "text/plain": [
       "<Figure size 640.171x284.278 with 1 Axes>"
      ]
     },
     "execution_count": 9,
     "metadata": {},
     "output_type": "execute_result"
    }
   ],
   "source": [
    "qc.cx(0,1)\n",
    "qc.barrier()\n",
    "qc.draw(output='mpl', style=style)"
   ]
  },
  {
   "cell_type": "markdown",
   "metadata": {},
   "source": [
    "Apply a Hadamard Gate to the first qubit"
   ]
  },
  {
   "cell_type": "code",
   "execution_count": 10,
   "metadata": {},
   "outputs": [
    {
     "data": {
      "image/png": "[encoded data removed]",
      "text/plain": [
       "<Figure size 723.783x284.278 with 1 Axes>"
      ]
     },
     "execution_count": 10,
     "metadata": {},
     "output_type": "execute_result"
    }
   ],
   "source": [
    "qc.h(0)\n",
    "qc.draw(output='mpl', style=style)"
   ]
  },
  {
   "cell_type": "markdown",
   "metadata": {},
   "source": [
    "Then show the probability of measure |1>a in the first qubit, this shows its not a balanced oracle."
   ]
  },
  {
   "cell_type": "code",
   "execution_count": 11,
   "metadata": {},
   "outputs": [
    {
     "data": {
      "image/png": "[encoded data removed]",
      "text/plain": [
       "<Figure size 807.394x284.278 with 1 Axes>"
      ]
     },
     "execution_count": 11,
     "metadata": {},
     "output_type": "execute_result"
    }
   ],
   "source": [
    "qc.measure(qreg1[0],register1)\n",
    "qc.draw(output='mpl', style=style)"
   ]
  },
  {
   "cell_type": "markdown",
   "metadata": {},
   "source": [
    "<h2>Bibliography</h2>\n",
    "\n",
    "1.  https://en.wikipedia.org/wiki/Deutsch%E2%80%93Jozsa_algorithm [1]\n",
    "2.  https://www.cl.cam.ac.uk/teaching/1920/QuantComp/Quantum_Computing_Lecture_7.pdf [2]\n",
    "3.  https://github.com/Qiskit/textbook/blob/main/notebooks/ch-algorithms/deutsch-jozsa.ipynb [3]\n",
    "4.  https://young.physics.ucsc.edu/150/deutsch.pdf [4]\n",
    "5.  https://github.com/qiskit-community/qiskit-community-tutorials/blob/master/algorithms/deutsch_jozsa.ipynb [5]\n",
    "6.  https://royalsocietypublishing.org/doi/pdf/10.1098/rspa.1992.0167 [6]\n",
    "7.  https://fullstackquantumcomputation.tech/blog/deutsch-algorithm/ [7]"
   ]
  }
 ],
 "metadata": {
  "kernelspec": {
   "display_name": "Python 3",
   "language": "python",
   "name": "python3"
  },
  "language_info": {
   "codemirror_mode": {
    "name": "ipython",
    "version": 3
   },
   "file_extension": ".py",
   "mimetype": "text/x-python",
   "name": "python",
   "nbconvert_exporter": "python",
   "pygments_lexer": "ipython3",
   "version": "3.11.3"
  }
 },
 "nbformat": 4,
 "nbformat_minor": 2
}
