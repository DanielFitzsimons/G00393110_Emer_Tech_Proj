{
 "cells": [
  {
   "cell_type": "markdown",
   "metadata": {},
   "source": [
    "<h1>Deutsch's Algorithm</h1>"
   ]
  },
  {
   "cell_type": "markdown",
   "metadata": {},
   "source": [
    "<h2>What is it?</h2>\n",
    "<p>Deutschs algortihm, also know as Deutschs-Jozsa algorithm, is devised by David Deutsch and Richard Jozsa in 1992. It is one of the earliest examples of a quantum algorithm advantage to be demonstarted.</p>\n",
    "\n",
    "<p>It specifically reveals the possibility of exponential speed-ups using quantum computers by generalizing Deutschs algorithm.</p>\n",
    "\n",
    "\n",
    "<h3>Deutschs Algorithm circuit [2] </h3>\n",
    "\n",
    "![Alt text](Images/Circuit.png)\n",
    "\n",
    "<h2>Explained [3] </h2>\n",
    "\n",
    "\n",
    "<p>The algorithm determines between constant or balanced.It uses deutschs algorithm which is a binary function, f: {0,1}^n -> {0,1}, where n is the number of bits in the input. This function gurantees the output to be concistent of 0 for all outputs or 1 for all outputs. Otherwise it splits the outputs 50/50, half being 0, and half being 1.</p>\n",
    "\n",
    "<h3>Example in table format [4]</h3>\n",
    "\n",
    "![Alt text](Images/table_for_inputs.png)\n",
    "\n",
    "<h3>2. Classical Solution.</h3>\n",
    "\n",
    "In a classical setting, determining if the function is balanced and requires two queries. For instance, if f(0,0,0,..) -> 0 and f(1,0,0, ...)->, the function is balanced. However, confirming a constant function requires checking half of all possible inputs plus one, leading to 2^n - 1 + 1 trials.\n",
    "\n",
    "![Alt text](Images/Constant.png)\n",
    "\n",
    "This formula can express the probability that the function is constant.\n",
    "\n",
    "<h3>3. Quantum solution </h3>\n",
    "\n",
    "In the quantum realm, the problem can be solved with certainty after just one call to the function f(x), provided f is implemented as a quantum oracle. The quantum solution utilizes a quantum circuit and takes advantage of quantum parallelism.\n",
    "<p>Example of Deutsch-Jozsa circuit</p>\n",
    "\n",
    "![Alt text](Images/Deutsch-Jozsa-Circuit.png)\n",
    "\n",
    "\n",
    "<p>Steps : </p>\n",
    "\n",
    "1.  Prepare two quantum registers. The first is an n-qubit register intialised to |0> ,and the second is a one-qubit register intialized to |1>\n",
    "\n",
    "<div style=\"text-align:center;\">\n",
    "  <img src=\"Images/p1.png\" alt=\"Alt text\" />\n",
    "</div>\n",
    "\n",
    "\n",
    "\n",
    "2.  Apply a Hadamard gate to each qubit:\n",
    "\n",
    "<div style=\"text-align:center;\">\n",
    "  <img src=\"Images/hadamard.png\" alt=\"Alt text\" />\n",
    "</div>\n",
    "\n",
    "3.  Appy the quantum oracle ![Alt text](Images/Screenshot.png) :\n",
    "\n",
    "<div style=\"text-align:center;\">\n",
    "  <img src=\"Images/quantum.png\" alt=\"Alt text\" />\n",
    "</div>\n",
    "\n",
    "\n",
    "4.  By this step, the second single qubit register may be ignored, You apply a hadamard gate to each qubit in the first register\n",
    "\n",
    "<div style=\"text-align:center;\">\n",
    "  <img src=\"Images/hadamard3.png\" alt=\"Alt text\" />\n",
    "</div>\n",
    "\n",
    "5.  You then measure the first register. If the result is 0, then it is a constant, if the result is 1, then it is balanced.\n",
    "\n",
    "\n",
    "\n",
    "\n",
    "\n",
    "\n",
    "\n",
    "\n"
   ]
  },
  {
   "cell_type": "markdown",
   "metadata": {},
   "source": [
    "<h2>Bibliography</h2>\n",
    "\n",
    "1.  https://en.wikipedia.org/wiki/Deutsch%E2%80%93Jozsa_algorithm [1]\n",
    "2.  https://www.cl.cam.ac.uk/teaching/1920/QuantComp/Quantum_Computing_Lecture_7.pdf [2]\n",
    "3.  https://github.com/Qiskit/textbook/blob/main/notebooks/ch-algorithms/deutsch-jozsa.ipynb [3]\n",
    "4.  https://young.physics.ucsc.edu/150/deutsch.pdf [4]"
   ]
  }
 ],
 "metadata": {
  "kernelspec": {
   "display_name": "Python 3",
   "language": "python",
   "name": "python3"
  },
  "language_info": {
   "name": "python",
   "version": "3.11.3"
  }
 },
 "nbformat": 4,
 "nbformat_minor": 2
}
