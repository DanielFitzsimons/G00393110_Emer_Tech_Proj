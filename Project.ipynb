{
 "cells": [
  {
   "cell_type": "markdown",
   "metadata": {},
   "source": [
    "<h1>Deutsch's Algorithm</h1>"
   ]
  },
  {
   "cell_type": "markdown",
   "metadata": {},
   "source": [
    "<h2>What is it?</h2>\n",
    "<p>Deutschs algortihm, also know as Deutschs-Jozsa algorithm, is devised by David Deutsch and Richard Jozsa in 1992. It is one of the earliest examples of a quantum algorithm advantage to be demonstarted.</p>\n",
    "\n",
    "<p>It specifically reveals the possibility of exponential speed-ups using quantum computers by generalizing Deutschs algorithm.</p>\n",
    "\n",
    "<p>The algorithm determines between constant or balanced.It uses deutschs algorithm which is a binary function, f: {0,1}^n -> {0,1}, where n is the number of bits in the input. This function gurantees the output to be concistent of 0 for all outputs or 1 for all outputs. Otherwise it splits the outputs 50/50, half being 0, and half being 1.</p>\n",
    "\n",
    "<h3>Deutschs Algorithm circuit [2] </h3>\n",
    "\n",
    "![Alt text](Images/Circuit.png)\n",
    "\n",
    "<h2>Explained [3] </h2>\n",
    "\n",
    "<h3>1. Deutschs-Jozsa Problem.</h3>\n",
    "\n",
    "The problem itself takes a boolean function f, which takes a string of bits as input, and returns either 0 or 1.\n",
    "\n",
    "![Alt text](Images/Deutsch-Jozsa-Prob.png)\n",
    "\n",
    "\n",
    "- This is guranteed to be either balanced or constant.\n",
    "    - A constant function returns all 0's or 1's for anu input.\n",
    "    - A balanced returns 0's for exactly half and 1's for the other half.\n",
    "    - Its task is to determine wether it is balanced or constant.\n",
    "\n",
    "<h3>2. Classical Solution.</h3>\n",
    "\n",
    "In this two queries can determine the if the hidden boolean function , f(x), is balanced. \n",
    "- if we get both f(0,0,0,...) -> 0 and f(1,0,0 ...) -> 1, then we know the function is balanced as we have obtained two different outputs.\n",
    "\n",
    "But if we continue to see the same out put for each input, we will have to check exactly half of all possible inputs plus one in order to be certain that f(x) is constant. \n",
    "Since the total number of possible inputs is 2n, this implies we need 2^n-1 + 1 trial inputs to be certain that f(x) is constant. \n",
    "\n",
    "![Alt text](Images/Constant.png)\n",
    "\n",
    "This formula can express the probability that the function is constant.\n",
    "\n",
    "<h3>3. Quantum solution </h3>\n",
    "\n",
    "Using a quantum computer, we can solve this problem with 100% confidence after only one call to the function f(x), provided we have the function f implement as a quatum oracle. this maps the state as ![Alt text](Images/Screenshot.png) where the exclusive is addition modulo 2. \n",
    "\n",
    "<p>Example of Deutsch-Jozsa circuit</p>\n",
    "\n",
    "![Alt text](Images/Deutsch-Jozsa-Circuit.png)\n",
    "\n",
    "\n",
    "\n",
    "\n",
    "\n",
    "\n",
    "\n",
    "\n",
    "\n",
    "\n",
    "\n",
    "\n"
   ]
  },
  {
   "cell_type": "markdown",
   "metadata": {},
   "source": [
    "<h2>Bibliography</h2>\n",
    "\n",
    "1.  https://en.wikipedia.org/wiki/Deutsch%E2%80%93Jozsa_algorithm [1]\n",
    "2.  https://www.cl.cam.ac.uk/teaching/1920/QuantComp/Quantum_Computing_Lecture_7.pdf [2]\n",
    "3.  https://github.com/Qiskit/textbook/blob/main/notebooks/ch-algorithms/deutsch-jozsa.ipynb [3]"
   ]
  }
 ],
 "metadata": {
  "kernelspec": {
   "display_name": "Python 3",
   "language": "python",
   "name": "python3"
  },
  "language_info": {
   "name": "python",
   "version": "3.11.3"
  }
 },
 "nbformat": 4,
 "nbformat_minor": 2
}
