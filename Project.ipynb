{
 "cells": [
  {
   "cell_type": "markdown",
   "metadata": {},
   "source": [
    "<h1>Deutsch's Algorithm</h1>"
   ]
  },
  {
   "cell_type": "markdown",
   "metadata": {},
   "source": [
    "<h2>What is it?</h2>\n",
    "<p>Deutschs algortihm, also know as Deutschs-Jozsa algorithm, is devised by David Deutsch and Richard Jozsa in 1992. It is one of the earliest examples of a quantum algorithm advantage to be demonstarted.</p>\n",
    "\n",
    "<p>It specifically reveals the possibility of exponential speed-ups using quantum computers by generalizing Deutschs algorithm.</p>\n",
    "\n",
    "<p>The algorithm determines between constant or balanced.It uses deutschs algorithm which is a binary function, f: {0,1}^n -> {0,1}, where n is the number of bits in the input. This function gurantees the output to be concistent of 0 for all outputs or 1 for all outputs. Otherwise it splits the outputs 50/50, half being 0, and half being 1.</p>\n",
    "\n",
    "<p>\n",
    "Deutschs Algortithm Steps:\n",
    "<ul>\n",
    "    <li>Initialization</li>\n",
    "        We start with two qubits intialized to |0> and |1>, this is denoted as |01>\n",
    "    <li>Superposition</li>\n",
    "    <li>Function Evalution</li>\n",
    "    <li>Final Measurement</li>\n",
    "</ul></p>\n",
    "\n",
    "\n",
    "\n",
    "\n",
    "\n"
   ]
  },
  {
   "cell_type": "markdown",
   "metadata": {},
   "source": []
  }
 ],
 "metadata": {
  "kernelspec": {
   "display_name": "Python 3",
   "language": "python",
   "name": "python3"
  },
  "language_info": {
   "name": "python",
   "version": "3.11.3"
  }
 },
 "nbformat": 4,
 "nbformat_minor": 2
}
