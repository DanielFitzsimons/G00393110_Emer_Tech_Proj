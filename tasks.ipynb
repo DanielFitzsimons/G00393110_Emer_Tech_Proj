{
 "cells": [
  {
   "cell_type": "markdown",
   "metadata": {},
   "source": [
    "<h2>1. What is the collatz conjecture?</h2>\n",
    "\n",
    "<p>It is a simple maths equation that is considered is a famous unsolved problem. \n",
    "It is a problem that was introduced in 1937 by a German Mathemetician named Lothar Collatz. </p>\n",
    "\n",
    "<p>Explained: [3] </p>\n",
    "\n",
    "1.  You start with any positive integer 'n'.\n",
    "2.  If n is even, you divide it by 2 to get n/2.\n",
    "3.  if n is odd, mulitplty it by 3 and add 1 to get 3n+1.\n",
    "4.  Repeat the process indefinitely for the resulting values.\n",
    "\n",
    "<h2>Python Code for the problem:</h2>\n",
    "\n",
    "I began by following the source code i found in relation to the code i found online [1]"
   ]
  },
  {
   "cell_type": "code",
   "execution_count": 1,
   "metadata": {},
   "outputs": [
    {
     "name": "stdout",
     "output_type": "stream",
     "text": [
      "Collatz conjecture is true for all numbers up to 10000\n"
     ]
    }
   ],
   "source": [
    "#This takes an input as an intenger 'n' and generates the \n",
    "#The Collatz sequence starting from 'n' \n",
    "\n",
    "def collatz_sequence(n):\n",
    "    sequence = [n] #initilizes a list with the first element being 'n'\n",
    "    while n != 1: # Loop is entered until n becomes one\n",
    "        if n % 2 == 0: #if n is even it updates n to n // 2\n",
    "            n = n // 2\n",
    "        else: # if its odd then it changes to n = 3*n+1\n",
    "            n = 3 * n + 1\n",
    "        sequence.append(n)\n",
    "    return sequence\n",
    "\n",
    "\n",
    "# Takes a positive integer 'limit' as an input and verifies\n",
    "# Collatz conjecture for all numbers from 1 to specificed limit\n",
    "def verify_collatz_conjecture(limit):\n",
    "    for i in range(1, limit + 1): # iterates from one to limit\n",
    "        sequence = collatz_sequence(i) # each i generates the collatz sequence \n",
    "        if sequence[-1] != 1: # if last number is not 1, it prints not true\n",
    "            print(f\"Collatz conjecture is not true for {i}: {sequence}\")\n",
    "            return\n",
    "    print(\"Collatz conjecture is true for all numbers up to\", limit)\n",
    "\n",
    "# Verify Collatz conjecture for the first 10,000 positive integers\n",
    "verify_collatz_conjecture(10000)\n"
   ]
  },
  {
   "cell_type": "markdown",
   "metadata": {},
   "source": [
    "<p>Breakdown:</p>\n",
    "\n",
    "1.  I started this solution using the function collatze sequence which takes 'n' which is any integer\n",
    "2.  I then defined a sequence (as list), which initializes 'n' (the input) as the first element of this list\n",
    "3.  Then a loop was created the iterate only until 'n' becomes 1.\n",
    "4.  Within this loop it checks n with 'if' statements, checking wether the number is odd or even, where the different equations will apply. Then the 'n' value is updated into the 'sequence' list.\n",
    "5.  To verify the collatz conjecture, the input is defined by the limit variable which represents the maximum integer to check\n",
    "6.  Using a for loop to iterate through the positive numbers, throught to the limit. It then generates the collatz sequence for each i in the range.\n",
    "7.  If the last integer is not 1, it prints a message stating the collatz sequence is not true\n",
    "8.  Otherwise it prints true.\n",
    "9.  Then we call the function."
   ]
  },
  {
   "cell_type": "markdown",
   "metadata": {},
   "source": [
    "<h2>2. Square Roots Via Newtons Method</h2>\n",
    "\n",
    "<h3>What is it?</h3>\n",
    "<p>When a number is multiplied by itself, it gives the original number, so the square root of 16 is 4, because when you multiply 4 by 4, you get 16.</p>\n",
    "\n",
    "<h3>Newtons Method for Square roots</h3>\n",
    "\n",
    "1.  Start with an intial guess of x0 for the root of a function f\n",
    "2.  Calculate the value of the function and its derivative at x0\n",
    "3. \n",
    "\n",
    "\n",
    "<h2>Python code for Problem [4]</h2>"
   ]
  },
  {
   "cell_type": "code",
   "execution_count": 5,
   "metadata": {},
   "outputs": [
    {
     "name": "stdout",
     "output_type": "stream",
     "text": [
      "Approximate square root of 9 is: 3.000015360039322\n"
     ]
    }
   ],
   "source": [
    "def sqrt(x):\n",
    "    # Initial guess for the square root\n",
    "    z0 = x / 2.0\n",
    "    # Define the threshold for convergence (where end point meets)\n",
    "    threshold = 0.01\n",
    "\n",
    "    while True:\n",
    "        # Calculate the next guess using the Newton-Raphson formula\n",
    "        z1 = z0 - (z0 * z0 - x) / (2 * z0)\n",
    "\n",
    "        # Check if the difference between consecutive guesses is less than the threshold\n",
    "        if abs(z1 - z0) < threshold:\n",
    "            return z1  # Return the approximate square root\n",
    "\n",
    "        # Update the guess for the next iteration\n",
    "        z0 = z1\n",
    "\n",
    "# Test the function\n",
    "x = 9  # Change this to the number for which you want to calculate the square root\n",
    "approx_sqrt = sqrt(x)\n",
    "print(f\"Approximate square root of {x} is: {approx_sqrt}\")\n"
   ]
  },
  {
   "cell_type": "markdown",
   "metadata": {},
   "source": [
    "<p>Breakdown</p>\n",
    "\n",
    "1.  I started the process, after viewing the code i on TutorialsinHand [3] by setting an initial guess 'z0' for the square root, determined as half the value of x.\n",
    "2.  Then a convergence threshold was created to decide when the end point is met, considering the difference between consecutive guesses to be less than 0.01.\n",
    "3.  A loop was initialized where each iteration calculated the next guess 'z1' using the Newton-Raphson formula.\n",
    "4.  The check for convergence was implemented by comparing the differences between 'z1' and 'z0' with the established threshold. If the condition was met, 'z1' was returned as the approximate square root.\n",
    "5.  In cases where the convergence condition wasn't satisfied, 'z0' was updated with 'z1', and the process continued to the next iteration.\n",
    "6.  I then set up a sequence (as a list) with 'n' as the first element, and a loop that iterated until 'n' reached 1.\n",
    "7.  Within the loop, 'if' statements were used to check whether 'n' was odd or even, applying different equations accordingly. The updated 'n' value was then added to the 'sequence' list.\n",
    "8. Finally, the function was called"
   ]
  },
  {
   "cell_type": "markdown",
   "metadata": {},
   "source": [
    "<h2>3. Considering all possible functions taking 4 bits as input and outputting 1 single bit</h2>\n",
    "\n",
    "The inputs are considered as 4 bit computing, as the data or integers are 4 bits wide. So for each input combination as there will be only 1 output, there is 2 possible outputs (0,1). For all input combinations there are 65,536 distinctive functions f: {1,0} -> {0,1} is 2^16 = 65,536, this is because each of the 16 input combinations can independatly map to either 0 or 1, giving 2^16 unique functions. [11]\n",
    "\n",
    "<p>Breakdown: </p>\n",
    "\n",
    "1.  I initiated the process by defining a function that takes a 4-bit input named 'input-bits.'\n",
    "2.  To explore all possible 4-bit input combinations, I employed the itertools.product function, generating a list of tuples, where each tuple represented a distinct 4-bit input combination. With 2 choices (0 or 1) for each of the 4 bits, there were a total of 16 combinations [7] this is expected for certainty 2^4 = 16 .\n",
    "3.  An empty dictionary, 'function_mapping,' was then created to store the mapping from input combinations to output values.\n",
    "4.  Utilizing a for loop, I iterated through all possible 4-bit input combinations. For each combination, the random function was invoked with the input to acquire the corresponding output, and this mapping was stored in the 'function_mapping' dictionary.\n",
    "5.  First the system prints all the functions created, then radomly picks one function from the list.\n",
    "\n",
    "<h2>Python Code for the problem:</h2>"
   ]
  },
  {
   "cell_type": "code",
   "execution_count": 5,
   "metadata": {},
   "outputs": [
    {
     "name": "stdout",
     "output_type": "stream",
     "text": [
      "All Function Mappings:\n",
      "Input: (0, 0, 0, 0), Output: 1\n",
      "Input: (0, 0, 0, 1), Output: 1\n",
      "Input: (0, 0, 1, 0), Output: 1\n",
      "Input: (0, 0, 1, 1), Output: 0\n",
      "Input: (0, 1, 0, 0), Output: 0\n",
      "Input: (0, 1, 0, 1), Output: 1\n",
      "Input: (0, 1, 1, 0), Output: 0\n",
      "Input: (0, 1, 1, 1), Output: 0\n",
      "Input: (1, 0, 0, 0), Output: 0\n",
      "Input: (1, 0, 0, 1), Output: 0\n",
      "Input: (1, 0, 1, 0), Output: 0\n",
      "Input: (1, 0, 1, 1), Output: 1\n",
      "Input: (1, 1, 0, 0), Output: 0\n",
      "Input: (1, 1, 0, 1), Output: 0\n",
      "Input: (1, 1, 1, 0), Output: 0\n",
      "Input: (1, 1, 1, 1), Output: 1\n",
      "\n",
      "Randomly Selected Function:\n",
      "Input: (1, 1, 0, 1), Output: 0\n"
     ]
    }
   ],
   "source": [
    "import itertools\n",
    "import random\n",
    "\n",
    "# Define a function that takes a 4-bit input and returns a single bit output\n",
    "def random_function(input_bits):\n",
    "    # use the return function to generate a 1 or 0 at random\n",
    "    return random.choice([0, 1])\n",
    "\n",
    "# Create a list of all possible 4-bit input combinations\n",
    "input_combinations = list(itertools.product([0, 1], repeat=4))\n",
    "\n",
    "# Create a dictionary to store the function mapping\n",
    "function_mapping = {}\n",
    "\n",
    "# With use of function mapping where the result is stored, this code iterates over all possible \n",
    "# input combinations, using the random function for each one.\n",
    "for input_bits in input_combinations:\n",
    "    output = random_function(input_bits)\n",
    "    function_mapping[input_bits] = output\n",
    "\n",
    "# Print all function mappings\n",
    "print(\"All Function Mappings:\")\n",
    "for input_bits, output in function_mapping.items():\n",
    "    print(f\"Input: {input_bits}, Output: {output}\")\n",
    "\n",
    "# Randomly select and print one function mapping\n",
    "random_input_bits = random.choice(list(function_mapping.keys()))\n",
    "random_output = function_mapping[random_input_bits]\n",
    "print(\"\\nRandomly Selected Function:\")\n",
    "print(f\"Input: {random_input_bits}, Output: {random_output}\")\n",
    "\n",
    "\n",
    "\n"
   ]
  },
  {
   "cell_type": "markdown",
   "metadata": {},
   "source": [
    "<h2>4.  Functions that perform multiplcation matrices on two rectangular lists containing floats </h2>\n",
    "\n",
    "Matrix multiplication is a binary operation that uses pairs of matrices to produce a new matrix. The numebrs within the matrices are multiplid in basic arithmetic, where each column in the first matrix is equal to the number of rows in the second matrix. The resulting matrix will have the same number of rows as the first, and the same number of columns as the second [10].\n",
    "\n",
    "\n",
    "<p>Breakdown: </p>\n",
    "\n",
    "1.  Here i began by defining the function for the multiplying of matrixes 'def matrix_multiply' that included 2 matrices as input.\n",
    "2.  I then converted the input matrices in numpty arrays.\n",
    "3.  Then i performed the multiplication on the matrices 'using np.dot' this perfroms multiplication on matrices.\n",
    "4.  I provided samples for demonstration.   \n",
    "5.  I then return the function as a result that will then print the result of the multiplication between the matrices.\n",
    "\n",
    "<h2>Code Example in Python: [8] [9]</h2>"
   ]
  },
  {
   "cell_type": "code",
   "execution_count": 11,
   "metadata": {},
   "outputs": [
    {
     "name": "stdout",
     "output_type": "stream",
     "text": [
      "Matrix A:\n",
      "[[1. 2. 3.]\n",
      " [4. 5. 6.]]\n",
      "\n",
      "Matrix B:\n",
      "[[ 7.  8.]\n",
      " [ 9. 10.]\n",
      " [11. 12.]]\n",
      "\n",
      "Resultant Matrix:\n",
      "[[ 58.  64.]\n",
      " [139. 154.]]\n"
     ]
    }
   ],
   "source": [
    "import numpy as np\n",
    "\n",
    "def matrix_multiply(matrix1, matrix2):\n",
    "    # Convert input matrices to numpy arrays\n",
    "    matrix1_np = np.array(matrix1)\n",
    "    matrix2_np = np.array(matrix2)\n",
    "\n",
    "    # Perform matrix multiplication using numpy's dot function\n",
    "    result_matrix = np.dot(matrix1_np, matrix2_np)\n",
    "\n",
    "    return result_matrix\n",
    "\n",
    "# Example matrices\n",
    "matrix_A = [\n",
    "    [1.0, 2.0, 3.0],\n",
    "    [4.0, 5.0, 6.0],\n",
    "]\n",
    "\n",
    "matrix_B = [\n",
    "    [7.0, 8.0],\n",
    "    [9.0, 10.0],\n",
    "    [11.0, 12.0],\n",
    "]\n",
    "\n",
    "# Perform matrix multiplication\n",
    "result = matrix_multiply(matrix_A, matrix_B)\n",
    "\n",
    "# Print the result\n",
    "print(\"Matrix A:\")\n",
    "print(np.array(matrix_A))\n",
    "\n",
    "print(\"\\nMatrix B:\")\n",
    "print(np.array(matrix_B))\n",
    "\n",
    "print(\"\\nResultant Matrix:\")\n",
    "print(result)\n"
   ]
  },
  {
   "cell_type": "markdown",
   "metadata": {},
   "source": [
    "<h2>Bibliography</h2>\n",
    "\n",
    "<p>1. Collatz Conjecture</p>\n",
    "\n",
    "1.  https://www.sanfoundry.com/python-program-test-collatz-conjecture-given-number/ [1]\n",
    "2.  https://mathworld.wolfram.com/CollatzProblem.html [2]\n",
    "3.  https://testbook.com/maths/collatz-conjecture#:~:text=The%20History%20Behind%20the%20Collatz,take%20any%20positive%20integer%20n. [3]\n",
    "\n",
    "<p>2. Square Roots Using Newtons Method</p>\n",
    "\n",
    "1.  https://tutorialsinhand.com/Articles/python-program-to-find-square-root-of-a-number-using-newton-square-root-formula.aspx [4]\n",
    "2.  https://en.wikipedia.org/wiki/Newton%27s_method [5]\n",
    "3.  https://ocw.mit.edu/courses/18-335j-introduction-to-numerical-methods-spring-2019/resources/mit18_335js19_lec1/ [6]\n",
    "\n",
    "<p>3. All possible functions taking 4 bit inputs and outputting one single bit</p>\n",
    "\n",
    "1.  https://www.quora.com/Suppose-that-a-logic-gate-has-four-inputs-How-many-possible-input-combinations-must-be-listed-in-its-accompanying-truth-table [7]\n",
    "2.  https://learn.sparkfun.com/tutorials/logicblocks-experiment-guide/2-3-input-and-gate#:~:text=This%20number%20grows%20exponentially%20at,32%20outputs%2C%20and%20so%20on. [11]\n",
    "\n",
    "<p>4. Matrice Multiplications on rectangular Lists</p>\n",
    "\n",
    "1.  https://www.educative.io/blog/numpy-matrix-multiplication [8]\n",
    "2.  https://www.w3schools.com/python/numpy/default. [9]\n",
    "3.  https://en.wikipedia.org/wiki/Matrix_multiplication#:~:text=For%20matrix%20multiplication%2C%20the%20number,B%20is%20denoted%20as%20AB. [10]\n",
    "\n",
    "\n"
   ]
  }
 ],
 "metadata": {
  "kernelspec": {
   "display_name": "Python 3",
   "language": "python",
   "name": "python3"
  },
  "language_info": {
   "codemirror_mode": {
    "name": "ipython",
    "version": 3
   },
   "file_extension": ".py",
   "mimetype": "text/x-python",
   "name": "python",
   "nbconvert_exporter": "python",
   "pygments_lexer": "ipython3",
   "version": "3.11.3"
  },
  "orig_nbformat": 4
 },
 "nbformat": 4,
 "nbformat_minor": 2
}
